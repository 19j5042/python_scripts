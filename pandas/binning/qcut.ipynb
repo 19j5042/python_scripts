{
 "cells": [
  {
   "cell_type": "markdown",
   "metadata": {},
   "source": [
    "# データ数が同一になるようにビン分割を行う"
   ]
  },
  {
   "cell_type": "code",
   "execution_count": 1,
   "metadata": {
    "collapsed": true
   },
   "outputs": [],
   "source": [
    "import numpy as np\n",
    "import pandas as pd\n",
    "\n",
    "%matplotlib inline\n",
    "from matplotlib import pyplot as plt"
   ]
  },
  {
   "cell_type": "code",
   "execution_count": 2,
   "metadata": {
    "collapsed": true
   },
   "outputs": [],
   "source": [
    "# 年齢データの生成\n",
    "## 平均40, 標準偏差10, 1000サンプル\n",
    "age = np.random.normal(40, 10, 1000)\n",
    "\n",
    "# 最大99.9, 最小0に丸める\n",
    "age[age < 0] = 0.0\n",
    "age[age > 99.9] = 99.9"
   ]
  },
  {
   "cell_type": "code",
   "execution_count": 3,
   "metadata": {},
   "outputs": [
    {
     "data": {
      "text/plain": [
       "(array([   2.,   21.,   80.,  178.,  242.,  236.,  161.,   57.,   18.,    5.]),\n",
       " array([  7.98061188,  14.57871862,  21.17682535,  27.77493209,\n",
       "         34.37303882,  40.97114556,  47.56925229,  54.16735903,\n",
       "         60.76546576,  67.3635725 ,  73.96167923]),\n",
       " <a list of 10 Patch objects>)"
      ]
     },
     "execution_count": 3,
     "metadata": {},
     "output_type": "execute_result"
    },
    {
     "data": {
      "image/png": "[encoded data removed]",
      "text/plain": [
       "<matplotlib.figure.Figure at 0x10332ab70>"
      ]
     },
     "metadata": {},
     "output_type": "display_data"
    }
   ],
   "source": [
    "# 年齢データのヒストグラム\n",
    "plt.hist(age)"
   ]
  },
  {
   "cell_type": "code",
   "execution_count": 4,
   "metadata": {},
   "outputs": [],
   "source": [
    "# 10分割\n",
    "age_ctgr = pd.qcut(age, q=10)"
   ]
  },
  {
   "cell_type": "code",
   "execution_count": 5,
   "metadata": {},
   "outputs": [
    {
     "data": {
      "text/plain": [
       "[(53.119, 73.962], (53.119, 73.962], (48.62, 53.119], (45.752, 48.62], (37.811, 40.421], ..., (40.421, 43.053], (34.998, 37.811], (45.752, 48.62], (53.119, 73.962], (34.998, 37.811]]\n",
       "Length: 1000\n",
       "Categories (10, interval[float64]): [(7.98, 27.462] < (27.462, 31.976] < (31.976, 34.998] < (34.998, 37.811] ... (43.053, 45.752] < (45.752, 48.62] < (48.62, 53.119] < (53.119, 73.962]]"
      ]
     },
     "execution_count": 5,
     "metadata": {},
     "output_type": "execute_result"
    }
   ],
   "source": [
    "# 分割結果を確認\n",
    "age_ctgr"
   ]
  },
  {
   "cell_type": "code",
   "execution_count": 6,
   "metadata": {},
   "outputs": [
    {
     "data": {
      "text/plain": [
       "<Container object of 10 artists>"
      ]
     },
     "execution_count": 6,
     "metadata": {},
     "output_type": "execute_result"
    },
    {
     "data": {
      "image/png": "[encoded data removed]",
      "text/plain": [
       "<matplotlib.figure.Figure at 0x1099efd68>"
      ]
     },
     "metadata": {},
     "output_type": "display_data"
    }
   ],
   "source": [
    "# カテゴリごとに集計しplot\n",
    "plot_data = age_ctgr.value_counts().sort_index()\n",
    "x_labels = [str(ctgr) for ctgr in plot_data.index]\n",
    "\n",
    "plt.xticks(rotation=90)\n",
    "plt.bar(x_labels, plot_data)"
   ]
  },
  {
   "cell_type": "code",
   "execution_count": 7,
   "metadata": {},
   "outputs": [
    {
     "data": {
      "text/plain": [
       "<Container object of 10 artists>"
      ]
     },
     "execution_count": 7,
     "metadata": {},
     "output_type": "execute_result"
    },
    {
     "data": {
      "image/png": "[encoded data removed]",
      "text/plain": [
       "<matplotlib.figure.Figure at 0x109ae54e0>"
      ]
     },
     "metadata": {},
     "output_type": "display_data"
    }
   ],
   "source": [
    "# カテゴリごとに集計しラベルが昇順になるようにplot\n",
    "age_ctgr, bin_def = pd.qcut(age, q=10, retbins=True)\n",
    "age_ctgr_name = ['{:02}_{:.1f}-{:.1f}'.format(i, bin_def[i], bin_def[i+1]) for i in range(len(bin_def)-1)]\n",
    "age_ctgr = pd.qcut(age, q=10, labels=age_ctgr_name)\n",
    "\n",
    "plot_data = age_ctgr.value_counts().sort_index()\n",
    "x_labels = [str(ctgr) for ctgr in plot_data.index]\n",
    "\n",
    "plt.xticks(rotation=90)\n",
    "plt.bar(x_labels, plot_data)"
   ]
  }
 ],
 "metadata": {
  "kernelspec": {
   "display_name": "Python 3",
   "language": "python",
   "name": "python3"
  },
  "language_info": {
   "codemirror_mode": {
    "name": "ipython",
    "version": 3
   },
   "file_extension": ".py",
   "mimetype": "text/x-python",
   "name": "python",
   "nbconvert_exporter": "python",
   "pygments_lexer": "ipython3",
   "version": "3.6.3"
  }
 },
 "nbformat": 4,
 "nbformat_minor": 2
}
