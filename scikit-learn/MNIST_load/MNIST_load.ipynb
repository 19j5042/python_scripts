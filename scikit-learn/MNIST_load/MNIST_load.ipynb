{
 "cells": [
  {
   "cell_type": "code",
   "execution_count": null,
   "metadata": {},
   "outputs": [],
   "source": [
    "from sklearn.datasets import fetch_mldata\n",
    "\n",
    "import numpy as np\n",
    "from PIL import Image\n",
    "from IPython.core.display import display"
   ]
  },
  {
   "cell_type": "code",
   "execution_count": null,
   "metadata": {},
   "outputs": [],
   "source": [
    "mnist = fetch_mldata('MNIST original', data_home='./mnist_data/')"
   ]
  },
  {
   "cell_type": "code",
   "execution_count": null,
   "metadata": {},
   "outputs": [],
   "source": [
    "# 0-9の画像を表示する\n",
    "number_printed = {}\n",
    "\n",
    "for i in range(10):\n",
    "    number_printed[i] = False\n",
    "\n",
    "for i in range(len(mnist.data)):\n",
    "    label = int(mnist.target[i])\n",
    "    \n",
    "    if number_printed[label] == True:\n",
    "        continue\n",
    "    \n",
    "    number_printed[label] = True\n",
    "    \n",
    "    image_array = 255 - np.reshape(mnist.data[i], (28, 28))\n",
    "    image = Image.fromarray(np.uint8(image_array))\n",
    "    \n",
    "    display(image)"
   ]
  },
  {
   "cell_type": "code",
   "execution_count": null,
   "metadata": {
    "collapsed": true
   },
   "outputs": [],
   "source": []
  }
 ],
 "metadata": {
  "kernelspec": {
   "display_name": "Python 3",
   "language": "python",
   "name": "python3"
  },
  "language_info": {
   "codemirror_mode": {
    "name": "ipython",
    "version": 3
   },
   "file_extension": ".py",
   "mimetype": "text/x-python",
   "name": "python",
   "nbconvert_exporter": "python",
   "pygments_lexer": "ipython3",
   "version": "3.6.3"
  }
 },
 "nbformat": 4,
 "nbformat_minor": 2
}
