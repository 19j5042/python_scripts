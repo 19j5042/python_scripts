{
 "cells": [
  {
   "cell_type": "markdown",
   "metadata": {},
   "source": [
    "# GridSearchCVによるパラメタチューニング\n",
    "Boston house-pricesデータセットを題材にElasticNetのパラメタをGridSearchCVでチューニング"
   ]
  },
  {
   "cell_type": "code",
   "execution_count": null,
   "metadata": {
    "collapsed": true
   },
   "outputs": [],
   "source": [
    "from sklearn.datasets import load_boston\n",
    "from sklearn.model_selection import train_test_split\n",
    "from sklearn.linear_model import ElasticNet\n",
    "from sklearn.model_selection import GridSearchCV\n",
    "from sklearn.metrics import r2_score\n",
    "\n",
    "import numpy as np\n",
    "\n",
    "%matplotlib inline\n",
    "import matplotlib.pyplot as plt"
   ]
  },
  {
   "cell_type": "code",
   "execution_count": null,
   "metadata": {
    "collapsed": true
   },
   "outputs": [],
   "source": [
    "# Boston house-pricesのロード\n",
    "boston = load_boston()\n",
    "\n",
    "X = boston.data\n",
    "y = boston.target"
   ]
  },
  {
   "cell_type": "code",
   "execution_count": null,
   "metadata": {
    "collapsed": true
   },
   "outputs": [],
   "source": [
    "# 学習データと評価データに分割（分割比率8:2）\n",
    "(X_train, X_test, y_train, y_test) = train_test_split(X, y, test_size=0.2, random_state=0)"
   ]
  },
  {
   "cell_type": "code",
   "execution_count": null,
   "metadata": {},
   "outputs": [],
   "source": [
    "# デフォルトパラメタ\n",
    "elastic_net = ElasticNet()\n",
    "elastic_net.fit(X_train, y_train)\n",
    "\n",
    "# 評価データでのR2スコアを算出\n",
    "pred = elastic_net.predict(X_test)\n",
    "score = r2_score(y_test, pred)\n",
    "\n",
    "print('ElasticNet(default) R2 score: %.3f' % score)"
   ]
  },
  {
   "cell_type": "code",
   "execution_count": null,
   "metadata": {},
   "outputs": [],
   "source": [
    "# チューニングモデル\n",
    "estimator = ElasticNet()\n",
    "\n",
    "# モデルのパラメタ候補を定義\n",
    "alpha_params = np.logspace(-3, 3, 7)\n",
    "l1_ratio_params = np.arange(0.1, 1.0, 0.1)\n",
    "\n",
    "paramters = {\n",
    "    'alpha': alpha_params,\n",
    "    'l1_ratio': l1_ratio_params\n",
    "}\n",
    "\n",
    "# パラメタチューニング\n",
    "model_tuning = GridSearchCV(\n",
    "    estimator = estimator,     # 識別器\n",
    "    param_grid = paramters,    # パラメタ\n",
    "    refit = True,              # bestモデルを学習データ全体で再学習\n",
    "    cv = 5,                    # Cross validationの分割数\n",
    "    n_jobs = -1,               # 並列実行数(-1: コア数で並列実行)\n",
    "    verbose = 0                # メッセージ出力レベル\n",
    ")\n",
    "\n",
    "model_tuning.fit(X_train, y_train)"
   ]
  },
  {
   "cell_type": "code",
   "execution_count": null,
   "metadata": {
    "collapsed": true
   },
   "outputs": [],
   "source": [
    "def PlotGridSearchScores(model_tuning, x_param, line_param):\n",
    "    x_values = model_tuning.cv_results_['param_' + x_param].data\n",
    "    x_labels = np.sort(np.unique(x_values))\n",
    "    x_keys = ['{0:9.2e}'.format(x) for x in x_labels]\n",
    "\n",
    "    line_values = model_tuning.cv_results_['param_' + line_param].data\n",
    "    line_labels = np.sort(np.unique(line_values))\n",
    "    line_keys = ['{0:9.2e}'.format(v) for v in line_labels]\n",
    "\n",
    "    score = {}\n",
    "\n",
    "    # (line_key, x_key) -> mean_test_scoreを生成\n",
    "    for i, test_score in enumerate(model_tuning.cv_results_['mean_test_score']):\n",
    "        x = x_values[i]\n",
    "        line_value = line_values[i]\n",
    "\n",
    "        x_key = '{0:9.2e}'.format(x)\n",
    "        line_key = '{0:9.2e}'.format(line_value)\n",
    "\n",
    "        score[line_key, x_key] = test_score\n",
    "\n",
    "    _, ax = plt.subplots(1,1)\n",
    "    \n",
    "    # x_paramをx軸、line_paramを折れ線グラフで表現\n",
    "    for line_key in line_keys:\n",
    "        line_score = [score[line_key, x_key] for x_key in x_keys]\n",
    "        ax.plot(x_labels, line_score, '-o', label=line_param + ': ' + line_key)\n",
    "\n",
    "    ax.set_title(\"Grid Search R2 Scores\", fontsize=20, fontweight='bold')\n",
    "    ax.set_xlabel(x_param, fontsize=16)\n",
    "    ax.set_ylabel('CV Average Score', fontsize=16)\n",
    "    ax.legend(loc=\"upper right\", bbox_to_anchor=(1.4, 0.95, 0.5, .100), fontsize=15)\n",
    "    ax.grid('on')"
   ]
  },
  {
   "cell_type": "code",
   "execution_count": null,
   "metadata": {},
   "outputs": [],
   "source": [
    "# チューニング結果を描画\n",
    "PlotGridSearchScores(model_tuning, 'l1_ratio', 'alpha')"
   ]
  },
  {
   "cell_type": "code",
   "execution_count": null,
   "metadata": {},
   "outputs": [],
   "source": [
    "# チューニングしたモデルを評価\n",
    "elastic_net_tuned = model_tuning.best_estimator_\n",
    "\n",
    "# 評価データでのR2スコアを算出\n",
    "pred = elastic_net_tuned.predict(X_test)\n",
    "score = r2_score(y_test, pred)\n",
    "\n",
    "print('ElasticNet(tuned) R2 score: %.3f' % score)"
   ]
  }
 ],
 "metadata": {
  "kernelspec": {
   "display_name": "Python 3",
   "language": "python",
   "name": "python3"
  },
  "language_info": {
   "codemirror_mode": {
    "name": "ipython",
    "version": 3
   },
   "file_extension": ".py",
   "mimetype": "text/x-python",
   "name": "python",
   "nbconvert_exporter": "python",
   "pygments_lexer": "ipython3",
   "version": "3.6.3"
  }
 },
 "nbformat": 4,
 "nbformat_minor": 2
}
