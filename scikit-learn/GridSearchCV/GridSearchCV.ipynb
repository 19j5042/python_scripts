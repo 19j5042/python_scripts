{
 "cells": [
  {
   "cell_type": "markdown",
   "metadata": {},
   "source": [
    "# GridSearchCVによるパラメタチューニング\n",
    "Boston house-pricesデータセットを題材にElasticNetのパラメタをGridSearchCVでチューニング"
   ]
  },
  {
   "cell_type": "code",
   "execution_count": null,
   "metadata": {
    "collapsed": true
   },
   "outputs": [],
   "source": [
    "from sklearn.datasets import load_boston\n",
    "from sklearn.model_selection import train_test_split\n",
    "from sklearn.linear_model import ElasticNet\n",
    "from sklearn.model_selection import GridSearchCV\n",
    "from sklearn.metrics import r2_score\n",
    "\n",
    "import numpy as np\n",
    "\n",
    "%matplotlib inline\n",
    "import matplotlib.pyplot as plt"
   ]
  },
  {
   "cell_type": "code",
   "execution_count": null,
   "metadata": {
    "collapsed": true
   },
   "outputs": [],
   "source": [
    "# Boston house-pricesのロード\n",
    "boston = load_boston()\n",
    "\n",
    "X = boston.data\n",
    "y = boston.target"
   ]
  },
  {
   "cell_type": "code",
   "execution_count": null,
   "metadata": {
    "collapsed": true
   },
   "outputs": [],
   "source": [
    "# 学習データと評価データに分割（分割比率8:2）\n",
    "(X_train, X_test, y_train, y_test) = train_test_split(X, y, test_size=0.2, random_state=0)"
   ]
  },
  {
   "cell_type": "code",
   "execution_count": null,
   "metadata": {
    "collapsed": true
   },
   "outputs": [],
   "source": [
    "# デフォルトパラメタ\n",
    "elastic_net = ElasticNet()\n",
    "elastic_net.fit(X_train, y_train)\n",
    "\n",
    "# 評価データでのR2スコアを算出\n",
    "pred = elastic_net.predict(X_test)\n",
    "score = r2_score(y_test, pred)\n",
    "\n",
    "print('ElasticNet(default) R2 score: %.3f' % score)"
   ]
  },
  {
   "cell_type": "code",
   "execution_count": null,
   "metadata": {
    "collapsed": true
   },
   "outputs": [],
   "source": [
    "# チューニングモデル\n",
    "estimator = ElasticNet()\n",
    "\n",
    "# モデルのパラメタ候補を定義\n",
    "alpha_params = np.logspace(-3, 3, 7)\n",
    "l1_ratio_params = np.arange(0.1, 1.0, 0.1)\n",
    "\n",
    "paramters = {\n",
    "    'alpha': alpha_params,\n",
    "    'l1_ratio': l1_ratio_params\n",
    "}\n",
    "\n",
    "# パラメタチューニング\n",
    "model_tuning = GridSearchCV(\n",
    "    estimator = estimator,     # 識別器\n",
    "    param_grid = paramters,    # パラメタ\n",
    "    refit = True,              # bestモデルを学習データ全体で再学習\n",
    "    cv = 5,                    # Cross validationの分割数\n",
    "    n_jobs = -1,               # 並列実行数(-1: コア数で並列実行)\n",
    "    verbose = 0                # メッセージ出力レベル\n",
    ")\n",
    "\n",
    "model_tuning.fit(X_train, y_train)"
   ]
  },
  {
   "cell_type": "code",
   "execution_count": null,
   "metadata": {
    "collapsed": true
   },
   "outputs": [],
   "source": [
    "def PlotGridSearchScores(model_tuning, grid_param_1, grid_param_2, name_param_1, name_param_2):\n",
    "    scores_mean = model_tuning.cv_results_['mean_test_score']\n",
    "    scores_mean = np.array(scores_mean).reshape(len(grid_param_2),len(grid_param_1))\n",
    "\n",
    "    _, ax = plt.subplots(1,1)\n",
    "\n",
    "    # param1をx軸、param2を折れ線グラフで表現\n",
    "    for idx, val in enumerate(grid_param_2):\n",
    "        ax.plot(grid_param_1, scores_mean[idx,:], '-o', label= name_param_2 + ': ' + str(val))\n",
    "\n",
    "    ax.set_title(\"Grid Search R2 Scores\", fontsize=20, fontweight='bold')\n",
    "    ax.set_xlabel(name_param_1, fontsize=16)\n",
    "    ax.set_ylabel('CV Average Score', fontsize=16)\n",
    "    ax.legend(loc=\"upper right\", bbox_to_anchor=(1.55, 0.95, 0.5, .100), fontsize=15)\n",
    "    ax.grid('on')"
   ]
  },
  {
   "cell_type": "code",
   "execution_count": null,
   "metadata": {
    "collapsed": true
   },
   "outputs": [],
   "source": [
    "# チューニング結果を描画\n",
    "PlotGridSearchScores(model_tuning, l1_ratio_params, alpha_params, 'l1_ratio', 'alpha')"
   ]
  },
  {
   "cell_type": "code",
   "execution_count": null,
   "metadata": {
    "collapsed": true
   },
   "outputs": [],
   "source": [
    "# チューニングしたモデルを評価\n",
    "elastic_net_tuned = model_tuning.best_estimator_\n",
    "\n",
    "# 評価データでのR2スコアを算出\n",
    "pred = elastic_net_tuned.predict(X_test)\n",
    "score = r2_score(y_test, pred)\n",
    "\n",
    "print('ElasticNet(tuned) R2 score: %.3f' % score)"
   ]
  }
 ],
 "metadata": {
  "kernelspec": {
   "display_name": "Python 3",
   "language": "python",
   "name": "python3"
  },
  "language_info": {
   "codemirror_mode": {
    "name": "ipython",
    "version": 3
   },
   "file_extension": ".py",
   "mimetype": "text/x-python",
   "name": "python",
   "nbconvert_exporter": "python",
   "pygments_lexer": "ipython3",
   "version": "3.6.3"
  }
 },
 "nbformat": 4,
 "nbformat_minor": 2
}
