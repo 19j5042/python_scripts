{
 "cells": [
  {
   "cell_type": "markdown",
   "metadata": {},
   "source": [
    "# 単変量線形回帰の信頼区間"
   ]
  },
  {
   "cell_type": "code",
   "execution_count": 1,
   "metadata": {},
   "outputs": [],
   "source": [
    "import numpy as np\n",
    "\n",
    "from scipy import stats\n",
    "from sklearn.linear_model import LinearRegression\n",
    "\n",
    "import matplotlib.pyplot as plt"
   ]
  },
  {
   "cell_type": "markdown",
   "metadata": {},
   "source": [
    "# 真の回帰直線\n",
    "* $y = x + 1$\n",
    "\n",
    "# 観測値\n",
    "* $x = 0.0, 0.5. 1.0, \\dots, 10.0$\n",
    "* サンプル数: 21\n",
    "* $Y_i = x_i + 1 + \\varepsilon, \\varepsilon \\sim N(0, 0.5^2)$"
   ]
  },
  {
   "cell_type": "code",
   "execution_count": 2,
   "metadata": {},
   "outputs": [],
   "source": [
    "# 実験設定\n",
    "SAMPLE_SIZE = 21\n",
    "SIGMA = 0.5"
   ]
  },
  {
   "cell_type": "code",
   "execution_count": 3,
   "metadata": {},
   "outputs": [],
   "source": [
    "# 実験を管理するクラス\n",
    "class Experiment:\n",
    "    def __init__(self, random_seed, sigma, sample_size):\n",
    "        np.random.seed(random_seed)\n",
    "        \n",
    "        # 実験設定\n",
    "        self.sigma = sigma\n",
    "        self.sample_size = sample_size\n",
    "        \n",
    "        # サンプルを生成\n",
    "        self.x_train = np.array([0.5 * i for i in range(sample_size)])\n",
    "        self.y_true = self.x_train + 1\n",
    "        self.y_train = self.y_true + np.random.normal(0.0, sigma, sample_size)\n",
    "        \n",
    "        # 回帰係数を算出\n",
    "        self.x_mean = np.mean(self.x_train)\n",
    "        self.s_xx = np.sum((self.x_train - self.x_mean) ** 2)\n",
    "\n",
    "        self.y_mean = np.mean(self.y_train)\n",
    "        self.s_xy = np.sum((self.x_train - self.x_mean) * (self.y_train - self.y_mean))\n",
    "\n",
    "        # 回帰係数\n",
    "        self.coef = self.s_xy / self.s_xx\n",
    "        self.intercept = self.y_mean - self.coef * self.x_mean\n",
    "        \n",
    "        # 不偏標本分散\n",
    "        s2 = np.sum((self.y_train - self.intercept - self.coef * self.x_train) ** 2) / (sample_size - 2)\n",
    "        self.s = np.sqrt(s2)\n",
    "        \n",
    "        # t分布(自由度N-2)の上側2.5%点\n",
    "        self.t = stats.t.ppf(1-0.025, df=sample_size-2)\n",
    "\n",
    "    # 予測\n",
    "    def predict(self, x):\n",
    "        return self.intercept + self.coef * x\n",
    "    \n",
    "    # 真の値\n",
    "    def calc_true_value(self, x):\n",
    "        return x + 1\n",
    "    \n",
    "    # 95%信頼区間\n",
    "    def calc_confidence(self, x):\n",
    "        band = self.t * self.s * np.sqrt(1 / self.sample_size + (x - self.x_mean)**2 / self.s_xx)\n",
    "        upper_confidence = self.predict(x) + band\n",
    "        lower_confidence = self.predict(x) - band\n",
    "\n",
    "        return (lower_confidence, upper_confidence)\n",
    "    \n",
    "    # 観測値, 95%信頼区間, 真の回帰直線を描画する\n",
    "    def plot(self):\n",
    "        # 学習データ\n",
    "        plt.scatter(self.x_train, self.y_train, color='royalblue', alpha=0.2)\n",
    "\n",
    "        # 回帰直線\n",
    "        y_pred = self.predict(self.x_train)\n",
    "        plt.plot(self.x_train, y_pred, color='royalblue', label='y_fitted')\n",
    "\n",
    "        # 信頼区間\n",
    "        lower_confidence, upper_confidence = self.calc_confidence(self.x_train)\n",
    "        \n",
    "        plt.plot(self.x_train, upper_confidence, color='royalblue', linestyle='dashed', label='95% confidence interval')\n",
    "        plt.plot(self.x_train, lower_confidence, color='royalblue', linestyle='dashed')\n",
    "        \n",
    "        x_max = max(self.x_train)\n",
    "        plt.xlim([0, x_max])\n",
    "        plt.ylim([0.5, x_max + 1.5])\n",
    "\n",
    "        plt.legend();\n",
    "        \n",
    "    # あるxにおける信頼区間と真の値を描画する\n",
    "    def plot_at_x(self, x):\n",
    "        plt.xlim([x-0.5, x+0.5])\n",
    "        \n",
    "        plot_x = np.array([x-0.5, x, x+0.5])\n",
    "        plot_y = self.predict(plot_x)\n",
    "        \n",
    "        # 信頼区間\n",
    "        lb, ub = self.calc_confidence(x)\n",
    "        error = (ub - lb) / 2\n",
    "        plt.errorbar(plot_x[1], plot_y[1], fmt='o', yerr=error, capsize=5, color='royalblue', label='95% confidence interval')\n",
    "        \n",
    "        plt.plot(plot_x, plot_y, alpha=0.2, color='royalblue')\n",
    "        \n",
    "        # 真の値\n",
    "        y_true = x + 1\n",
    "        plt.scatter(x, y_true, color='orange', label='true value')\n",
    "        \n",
    "        plt.xlim([x-0.5, x+0.5])\n",
    "\n",
    "        plt.legend();"
   ]
  },
  {
   "cell_type": "markdown",
   "metadata": {},
   "source": [
    "# 実験"
   ]
  },
  {
   "cell_type": "code",
   "execution_count": 4,
   "metadata": {},
   "outputs": [
    {
     "data": {
      "image/png": "[encoded data removed]",
      "text/plain": [
       "<Figure size 432x288 with 1 Axes>"
      ]
     },
     "metadata": {
      "needs_background": "light"
     },
     "output_type": "display_data"
    }
   ],
   "source": [
    "# 観測した標本から回帰直線と95%信頼区間を求める\n",
    "random_seed = 27\n",
    "experiment = Experiment(random_seed, SIGMA, SAMPLE_SIZE)\n",
    "\n",
    "experiment.plot()"
   ]
  },
  {
   "cell_type": "markdown",
   "metadata": {},
   "source": [
    "## 信頼区間に真の値が含まれるケース "
   ]
  },
  {
   "cell_type": "code",
   "execution_count": 5,
   "metadata": {},
   "outputs": [
    {
     "data": {
      "image/png": "[encoded data removed]",
      "text/plain": [
       "<Figure size 432x288 with 1 Axes>"
      ]
     },
     "metadata": {
      "needs_background": "light"
     },
     "output_type": "display_data"
    }
   ],
   "source": [
    "x = 8\n",
    "experiment.plot_at_x(x)"
   ]
  },
  {
   "cell_type": "markdown",
   "metadata": {},
   "source": [
    "## 信頼区間に真の値が含まれないケース "
   ]
  },
  {
   "cell_type": "code",
   "execution_count": 6,
   "metadata": {},
   "outputs": [
    {
     "data": {
      "image/png": "[encoded data removed]",
      "text/plain": [
       "<Figure size 432x288 with 1 Axes>"
      ]
     },
     "metadata": {
      "needs_background": "light"
     },
     "output_type": "display_data"
    }
   ],
   "source": [
    "x = 0\n",
    "experiment.plot_at_x(x)"
   ]
  },
  {
   "cell_type": "markdown",
   "metadata": {},
   "source": [
    "# 実験を1万回繰り返す\n",
    "* 信頼区間に真の値が含まれる割合を計測する"
   ]
  },
  {
   "cell_type": "code",
   "execution_count": 7,
   "metadata": {},
   "outputs": [
    {
     "name": "stdout",
     "output_type": "stream",
     "text": [
      "信頼区間に真の値が含まれる割合: 95.2%\n"
     ]
    }
   ],
   "source": [
    "experiment_count = 10000\n",
    "count = 0\n",
    "\n",
    "for i in range(experiment_count):\n",
    "    experiment = Experiment(i, SIGMA, SAMPLE_SIZE)\n",
    "    \n",
    "    x = np.random.uniform(0, 10, 1)[0]\n",
    "    \n",
    "    y_true = experiment.calc_true_value(x)\n",
    "    lb, ub = experiment.calc_confidence(x)\n",
    "    \n",
    "    # 信頼区間に真の値が含まれるかチェック\n",
    "    count += 1 if (lb <= y_true and y_true <= ub)  else 0\n",
    "    \n",
    "print('信頼区間に真の値が含まれる割合: {:.1f}%'.format(100 * count / experiment_count))"
   ]
  },
  {
   "cell_type": "code",
   "execution_count": null,
   "metadata": {},
   "outputs": [],
   "source": []
  }
 ],
 "metadata": {
  "kernelspec": {
   "display_name": "Python 3",
   "language": "python",
   "name": "python3"
  },
  "language_info": {
   "codemirror_mode": {
    "name": "ipython",
    "version": 3
   },
   "file_extension": ".py",
   "mimetype": "text/x-python",
   "name": "python",
   "nbconvert_exporter": "python",
   "pygments_lexer": "ipython3",
   "version": "3.7.1"
  }
 },
 "nbformat": 4,
 "nbformat_minor": 2
}
