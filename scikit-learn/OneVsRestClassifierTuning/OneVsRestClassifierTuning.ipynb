{
 "cells": [
  {
   "cell_type": "markdown",
   "metadata": {},
   "source": [
    "# GridSearchCVによるOneVsRestClassifierのパラメタチューニング"
   ]
  },
  {
   "cell_type": "code",
   "execution_count": null,
   "metadata": {
    "collapsed": true
   },
   "outputs": [],
   "source": [
    "from sklearn.datasets import load_digits\n",
    "from sklearn.model_selection import train_test_split\n",
    "\n",
    "from sklearn.svm import SVC\n",
    "from sklearn.multiclass import OneVsRestClassifier\n",
    "from sklearn.model_selection import GridSearchCV\n",
    "from sklearn.metrics import accuracy_score\n",
    "\n",
    "import numpy as np\n",
    "import pandas as pd\n",
    "import seaborn as sn\n",
    "\n",
    "from sklearn.metrics import confusion_matrix\n",
    "\n",
    "%matplotlib inline\n",
    "import matplotlib.pyplot as plt"
   ]
  },
  {
   "cell_type": "code",
   "execution_count": null,
   "metadata": {},
   "outputs": [],
   "source": [
    "# Digits datasetのロード\n",
    "digits = load_digits()\n",
    "\n",
    "X = digits.data\n",
    "y = digits.target"
   ]
  },
  {
   "cell_type": "code",
   "execution_count": null,
   "metadata": {
    "collapsed": true
   },
   "outputs": [],
   "source": [
    "# 学習データと評価データに分割（分割比率8:2）\n",
    "(X_train, X_test, y_train, y_test) = train_test_split(X, y, test_size=0.2, random_state=0)"
   ]
  },
  {
   "cell_type": "code",
   "execution_count": null,
   "metadata": {},
   "outputs": [],
   "source": [
    "# デフォルトパラメタ\n",
    "estimator = SVC()\n",
    "classifier = OneVsRestClassifier(estimator = estimator)\n",
    "\n",
    "classifier.fit(X_train, y_train)"
   ]
  },
  {
   "cell_type": "code",
   "execution_count": null,
   "metadata": {},
   "outputs": [],
   "source": [
    "# 評価データでconfusion matrixとaccuracy scoreを算出\n",
    "pred = classifier.predict(X_test)\n",
    "\n",
    "accuracy = accuracy_score(y_test, pred)\n",
    "print('Multiclass SVM(default): %.3f' % accuracy)"
   ]
  },
  {
   "cell_type": "code",
   "execution_count": null,
   "metadata": {
    "collapsed": true
   },
   "outputs": [],
   "source": [
    "# Confusion Matrixをheatmapとして表示\n",
    "def ConfusionMatrixHeatmap(y_true, y_pred):\n",
    "    labels = sorted(list(set(y_true)))\n",
    "\n",
    "    cf_matrix = confusion_matrix(y_true, y_pred, labels=labels)\n",
    "    cf_matrix = cf_matrix.astype('float') / cf_matrix.sum(axis=1)[:,np.newaxis]\n",
    "    \n",
    "    plt.imshow(cf_matrix, interpolation='nearest', cmap=plt.cm.Blues)\n",
    "    plt.title('Normalized confusion matrix')\n",
    "    plt.colorbar()\n",
    "    tick_marks = np.arange(len(labels))\n",
    "    plt.xticks(tick_marks, labels)\n",
    "    plt.yticks(tick_marks, labels)\n",
    "    plt.tight_layout()\n",
    "    plt.ylabel('True label')\n",
    "    plt.xlabel('Predicted label')"
   ]
  },
  {
   "cell_type": "code",
   "execution_count": null,
   "metadata": {},
   "outputs": [],
   "source": [
    "# Confusion matrix\n",
    "print('Confusion matrix:')\n",
    "print(confusion_matrix(y_test, pred))\n",
    "ConfusionMatrixHeatmap(y_test, pred)"
   ]
  },
  {
   "cell_type": "code",
   "execution_count": null,
   "metadata": {},
   "outputs": [],
   "source": [
    "# チューニングモデル(1回目)\n",
    "model = OneVsRestClassifier(SVC())\n",
    "\n",
    "C_params = np.logspace(-4, 4, 5)\n",
    "gamma_params = np.logspace(-4, 4, 5)\n",
    "\n",
    "parameters = {\n",
    "    'estimator__C': C_params,\n",
    "    'estimator__gamma': gamma_params\n",
    "}\n",
    "\n",
    "model_tuning = GridSearchCV(\n",
    "    estimator = model,\n",
    "    param_grid = parameters,\n",
    "    n_jobs = -1,\n",
    "    verbose = 3\n",
    ")\n",
    "\n",
    "model_tuning.fit(X_train, y_train)"
   ]
  },
  {
   "cell_type": "code",
   "execution_count": null,
   "metadata": {
    "collapsed": true
   },
   "outputs": [],
   "source": [
    "def PlotGridSearchScores(model_tuning, x_param, line_param):\n",
    "    x_values = model_tuning.cv_results_['param_' + x_param].data\n",
    "    x_labels = np.sort(np.unique(x_values))\n",
    "    x_keys = ['{0:9.2e}'.format(x) for x in x_labels]\n",
    "\n",
    "    line_values = model_tuning.cv_results_['param_' + line_param].data\n",
    "    line_labels = np.sort(np.unique(line_values))\n",
    "    line_keys = ['{0:9.2e}'.format(v) for v in line_labels]\n",
    "\n",
    "    score = {}\n",
    "\n",
    "    # (line_key, x_key) -> mean_test_scoreを生成\n",
    "    for i, test_score in enumerate(model_tuning.cv_results_['mean_test_score']):\n",
    "        x = x_values[i]\n",
    "        line_value = line_values[i]\n",
    "\n",
    "        x_key = '{0:9.2e}'.format(x)\n",
    "        line_key = '{0:9.2e}'.format(line_value)\n",
    "\n",
    "        score[line_key, x_key] = test_score\n",
    "\n",
    "    _, ax = plt.subplots(1,1)\n",
    "    \n",
    "    # 対数軸で表示する\n",
    "    plt.xscale('log')\n",
    "\n",
    "    # x_paramをx軸、line_paramを折れ線グラフで表現\n",
    "    for line_key in line_keys:\n",
    "        line_score = [score[line_key, x_key] for x_key in x_keys]\n",
    "        ax.plot(x_labels, line_score, '-o', label=line_param + ': ' + line_key)\n",
    "\n",
    "    ax.set_title(\"Grid Search Accuracy Scores\", fontsize=20, fontweight='bold')\n",
    "    ax.set_xlabel(x_param, fontsize=16)\n",
    "    ax.set_ylabel('CV Average Score', fontsize=16)\n",
    "    ax.legend(loc=\"upper right\", bbox_to_anchor=(1.4, 0.95, 0.5, .100), fontsize=15)\n",
    "    ax.grid('on')"
   ]
  },
  {
   "cell_type": "code",
   "execution_count": null,
   "metadata": {},
   "outputs": [],
   "source": [
    "# チューニング結果を描画\n",
    "PlotGridSearchScores(model_tuning, 'estimator__gamma', 'estimator__C')"
   ]
  },
  {
   "cell_type": "code",
   "execution_count": null,
   "metadata": {},
   "outputs": [],
   "source": [
    "# Best parameter\n",
    "model_tuning.best_params_"
   ]
  },
  {
   "cell_type": "code",
   "execution_count": null,
   "metadata": {},
   "outputs": [],
   "source": [
    "# 評価データでconfusion matrixとaccuracy scoreを算出\n",
    "classifier_tuned = model_tuning.best_estimator_\n",
    "pred = classifier_tuned.predict(X_test)\n",
    "\n",
    "accuracy = accuracy_score(y_test, pred)\n",
    "print('Multiclass SVM(default): %.3f' % accuracy)"
   ]
  },
  {
   "cell_type": "code",
   "execution_count": null,
   "metadata": {},
   "outputs": [],
   "source": [
    "# Confusion matrix\n",
    "print('Confusion matrix:')\n",
    "print(confusion_matrix(y_test, pred))\n",
    "ConfusionMatrixHeatmap(y_test, pred)"
   ]
  },
  {
   "cell_type": "code",
   "execution_count": null,
   "metadata": {},
   "outputs": [],
   "source": [
    "# チューニングモデル(2回目)\n",
    "model = OneVsRestClassifier(SVC())\n",
    "\n",
    "C_params = np.logspace(2, 5, 4)\n",
    "gamma_params = np.logspace(-5, -2, 4)\n",
    "\n",
    "parameters = {\n",
    "    'estimator__C': C_params,\n",
    "    'estimator__gamma': gamma_params\n",
    "}\n",
    "\n",
    "model_tuning = GridSearchCV(\n",
    "    estimator = model,\n",
    "    param_grid = parameters,\n",
    "    n_jobs = -1,\n",
    "    verbose = 3\n",
    ")\n",
    "\n",
    "model_tuning.fit(X_train, y_train)"
   ]
  },
  {
   "cell_type": "code",
   "execution_count": null,
   "metadata": {},
   "outputs": [],
   "source": [
    "# チューニング結果を描画\n",
    "PlotGridSearchScores(model_tuning, 'estimator__gamma', 'estimator__C')"
   ]
  },
  {
   "cell_type": "code",
   "execution_count": null,
   "metadata": {},
   "outputs": [],
   "source": [
    "# Best parameter\n",
    "model_tuning.best_params_"
   ]
  },
  {
   "cell_type": "code",
   "execution_count": null,
   "metadata": {},
   "outputs": [],
   "source": [
    "# 評価データでconfusion matrixとaccuracy scoreを算出\n",
    "classifier_tuned = model_tuning.best_estimator_\n",
    "pred = classifier_tuned.predict(X_test)\n",
    "\n",
    "accuracy = accuracy_score(y_test, pred)\n",
    "print('Multiclass SVM(default): %.3f' % accuracy)"
   ]
  },
  {
   "cell_type": "code",
   "execution_count": null,
   "metadata": {},
   "outputs": [],
   "source": [
    "# Confusion matrix\n",
    "print('Confusion matrix:')\n",
    "print(confusion_matrix(y_test, pred))\n",
    "ConfusionMatrixHeatmap(y_test, pred)"
   ]
  },
  {
   "cell_type": "code",
   "execution_count": null,
   "metadata": {
    "collapsed": true
   },
   "outputs": [],
   "source": []
  }
 ],
 "metadata": {
  "kernelspec": {
   "display_name": "Python 3",
   "language": "python",
   "name": "python3"
  },
  "language_info": {
   "codemirror_mode": {
    "name": "ipython",
    "version": 3
   },
   "file_extension": ".py",
   "mimetype": "text/x-python",
   "name": "python",
   "nbconvert_exporter": "python",
   "pygments_lexer": "ipython3",
   "version": "3.6.3"
  }
 },
 "nbformat": 4,
 "nbformat_minor": 2
}
