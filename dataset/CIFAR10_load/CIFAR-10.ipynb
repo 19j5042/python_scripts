{
 "cells": [
  {
   "cell_type": "markdown",
   "metadata": {},
   "source": [
    "# CIFAR-10データセットの読込"
   ]
  },
  {
   "cell_type": "code",
   "execution_count": null,
   "metadata": {
    "collapsed": true
   },
   "outputs": [],
   "source": [
    "import pickle\n",
    "import numpy as np\n",
    "import os\n",
    "import random\n",
    "\n",
    "from IPython.core.display import display\n",
    "\n",
    "%matplotlib inline\n",
    "from matplotlib import pyplot as plt"
   ]
  },
  {
   "cell_type": "code",
   "execution_count": null,
   "metadata": {
    "collapsed": true
   },
   "outputs": [],
   "source": [
    "# CIFAR-10データ（cifar-10-python.tar.gz）を解凍したディレクトリパスを指定する\n",
    "# ex: CIFAR_DIR = '/home/user/cifar10/cifar-10-batches-py/'\n",
    "CIFAR_DIR = 'path to cifar-10-batches-py'"
   ]
  },
  {
   "cell_type": "code",
   "execution_count": null,
   "metadata": {
    "collapsed": true
   },
   "outputs": [],
   "source": [
    "# pickleで保存されたオブジェクトをロードする\n",
    "def unpickle(file_name):\n",
    "    with open(file_name, 'rb') as f:\n",
    "        dataset = pickle.load(f, encoding='bytes')\n",
    "\n",
    "    return dataset"
   ]
  },
  {
   "cell_type": "code",
   "execution_count": null,
   "metadata": {
    "collapsed": true
   },
   "outputs": [],
   "source": [
    "# CIFAR-10オブジェクトデータを読み込み、(画像データ, 正解ラベルID)のタプルをリストに追記する\n",
    "def GetCifar10(file_path, image_label_id_list):\n",
    "    dataset = unpickle(file_path)\n",
    "    \n",
    "    image_labels = [(dataset[b'data'][i], dataset[b'labels'][i]) for i in range(len(dataset[b'data']))]\n",
    "    image_label_id_list.extend(image_labels)"
   ]
  },
  {
   "cell_type": "code",
   "execution_count": null,
   "metadata": {
    "collapsed": true
   },
   "outputs": [],
   "source": [
    "# 学習用データの読み込み\n",
    "learn_image_label_id_list = []\n",
    "\n",
    "for i in range(1, 6):\n",
    "    file_name = 'data_batch_%d' % i\n",
    "    file_path = os.path.join(CIFAR_DIR, file_name)\n",
    "    \n",
    "    GetCifar10(file_path, learn_image_label_id_list)"
   ]
  },
  {
   "cell_type": "code",
   "execution_count": null,
   "metadata": {
    "collapsed": true
   },
   "outputs": [],
   "source": [
    "# 評価用データの読み込み\n",
    "test_image_label_id_list = []\n",
    "\n",
    "file_path = os.path.join(CIFAR_DIR, 'test_batch')\n",
    "GetCifar10(file_path, test_image_label_id_list)"
   ]
  },
  {
   "cell_type": "code",
   "execution_count": null,
   "metadata": {
    "collapsed": true
   },
   "outputs": [],
   "source": [
    "# ラベル名(airplane, etc)の取得\n",
    "def GetCifar10LabelName(CIFAR_DIR):\n",
    "    mata_data_path = os.path.join(CIFAR_DIR, 'batches.meta')\n",
    "    meta_data = unpickle(mata_data_path)\n",
    "    \n",
    "    label_name_list = meta_data[b'label_names']\n",
    "    return label_name_list"
   ]
  },
  {
   "cell_type": "code",
   "execution_count": null,
   "metadata": {
    "collapsed": true
   },
   "outputs": [],
   "source": [
    "# ラベル名(airplane, etc)を取得する\n",
    "label_name_list = GetCifar10LabelName(CIFAR_DIR)"
   ]
  },
  {
   "cell_type": "code",
   "execution_count": null,
   "metadata": {
    "collapsed": true
   },
   "outputs": [],
   "source": [
    "# np.array形式のデータを画像に変換する\n",
    "def ConvertToImage(data):\n",
    "    return np.rollaxis(data.reshape((3, 32, 32)), 0, 3)"
   ]
  },
  {
   "cell_type": "code",
   "execution_count": null,
   "metadata": {},
   "outputs": [],
   "source": [
    "# 学習データからランダムに画像とラベルを選択し、表示する\n",
    "image_label_id = random.choice(learn_image_label_id_list)\n",
    "\n",
    "image = ConvertToImage(image_label_id[0])\n",
    "\n",
    "plt.imshow(image)\n",
    "plt.show()\n",
    "\n",
    "image_label = label_name_list[image_label_id[1]]\n",
    "print('Label: %s' % image_label.decode())"
   ]
  }
 ],
 "metadata": {
  "kernelspec": {
   "display_name": "Python 3",
   "language": "python",
   "name": "python3"
  },
  "language_info": {
   "codemirror_mode": {
    "name": "ipython",
    "version": 3
   },
   "file_extension": ".py",
   "mimetype": "text/x-python",
   "name": "python",
   "nbconvert_exporter": "python",
   "pygments_lexer": "ipython3",
   "version": "3.6.3"
  }
 },
 "nbformat": 4,
 "nbformat_minor": 2
}
